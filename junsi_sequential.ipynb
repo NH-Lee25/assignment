{
  "nbformat": 4,
  "nbformat_minor": 0,
  "metadata": {
    "colab": {
      "name": "junsi_sequential.ipynb",
      "provenance": [],
      "collapsed_sections": [],
      "include_colab_link": true
    },
    "kernelspec": {
      "name": "python3",
      "display_name": "Python 3"
    }
  },
  "cells": [
    {
      "cell_type": "markdown",
      "metadata": {
        "id": "view-in-github",
        "colab_type": "text"
      },
      "source": [
        "<a href=\"https://colab.research.google.com/github/NH-Lee25/assignment/blob/main/junsi_sequential.ipynb\" target=\"_parent\"><img src=\"https://colab.research.google.com/assets/colab-badge.svg\" alt=\"Open In Colab\"/></a>"
      ]
    },
    {
      "cell_type": "code",
      "metadata": {
        "id": "ElpTZQ-1VN2e",
        "colab": {
          "base_uri": "https://localhost:8080/"
        },
        "outputId": "5507fa6a-3ebe-49ce-a2d0-2456e28020ec"
      },
      "source": [
        "!pip install konlpy"
      ],
      "execution_count": 11,
      "outputs": [
        {
          "output_type": "stream",
          "text": [
            "Requirement already satisfied: konlpy in /usr/local/lib/python3.7/dist-packages (0.5.2)\n",
            "Requirement already satisfied: numpy>=1.6 in /usr/local/lib/python3.7/dist-packages (from konlpy) (1.19.5)\n",
            "Requirement already satisfied: JPype1>=0.7.0 in /usr/local/lib/python3.7/dist-packages (from konlpy) (1.3.0)\n",
            "Requirement already satisfied: colorama in /usr/local/lib/python3.7/dist-packages (from konlpy) (0.4.4)\n",
            "Requirement already satisfied: tweepy>=3.7.0 in /usr/local/lib/python3.7/dist-packages (from konlpy) (3.10.0)\n",
            "Requirement already satisfied: beautifulsoup4==4.6.0 in /usr/local/lib/python3.7/dist-packages (from konlpy) (4.6.0)\n",
            "Requirement already satisfied: lxml>=4.1.0 in /usr/local/lib/python3.7/dist-packages (from konlpy) (4.2.6)\n",
            "Requirement already satisfied: typing-extensions; python_version < \"3.8\" in /usr/local/lib/python3.7/dist-packages (from JPype1>=0.7.0->konlpy) (3.7.4.3)\n",
            "Requirement already satisfied: requests[socks]>=2.11.1 in /usr/local/lib/python3.7/dist-packages (from tweepy>=3.7.0->konlpy) (2.23.0)\n",
            "Requirement already satisfied: requests-oauthlib>=0.7.0 in /usr/local/lib/python3.7/dist-packages (from tweepy>=3.7.0->konlpy) (1.3.0)\n",
            "Requirement already satisfied: six>=1.10.0 in /usr/local/lib/python3.7/dist-packages (from tweepy>=3.7.0->konlpy) (1.15.0)\n",
            "Requirement already satisfied: chardet<4,>=3.0.2 in /usr/local/lib/python3.7/dist-packages (from requests[socks]>=2.11.1->tweepy>=3.7.0->konlpy) (3.0.4)\n",
            "Requirement already satisfied: urllib3!=1.25.0,!=1.25.1,<1.26,>=1.21.1 in /usr/local/lib/python3.7/dist-packages (from requests[socks]>=2.11.1->tweepy>=3.7.0->konlpy) (1.24.3)\n",
            "Requirement already satisfied: idna<3,>=2.5 in /usr/local/lib/python3.7/dist-packages (from requests[socks]>=2.11.1->tweepy>=3.7.0->konlpy) (2.10)\n",
            "Requirement already satisfied: certifi>=2017.4.17 in /usr/local/lib/python3.7/dist-packages (from requests[socks]>=2.11.1->tweepy>=3.7.0->konlpy) (2020.12.5)\n",
            "Requirement already satisfied: PySocks!=1.5.7,>=1.5.6; extra == \"socks\" in /usr/local/lib/python3.7/dist-packages (from requests[socks]>=2.11.1->tweepy>=3.7.0->konlpy) (1.7.1)\n",
            "Requirement already satisfied: oauthlib>=3.0.0 in /usr/local/lib/python3.7/dist-packages (from requests-oauthlib>=0.7.0->tweepy>=3.7.0->konlpy) (3.1.0)\n"
          ],
          "name": "stdout"
        }
      ]
    },
    {
      "cell_type": "code",
      "metadata": {
        "id": "9uBBstw8-5yt"
      },
      "source": [
        "import re\n",
        "import numpy as np\n",
        "import pandas as pd\n",
        "import random\n",
        "\n",
        "from sklearn.feature_extraction.text import TfidfVectorizer\n",
        "\n",
        "import tensorflow as tf\n",
        "\n",
        "from konlpy.tag import Kkma"
      ],
      "execution_count": 12,
      "outputs": []
    },
    {
      "cell_type": "code",
      "metadata": {
        "id": "Zmh2rLSBtAue",
        "colab": {
          "resources": {
            "http://localhost:8080/nbextensions/google.colab/files.js": {
              "data": "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",
              "ok": true,
              "headers": [
                [
                  "content-type",
                  "application/javascript"
                ]
              ],
              "status": 200,
              "status_text": ""
            }
          },
          "base_uri": "https://localhost:8080/",
          "height": 478
        },
        "outputId": "33825f4d-4186-4763-b32d-f0c3d20715d5"
      },
      "source": [
        "import pandas as pd\n",
        "import io\n",
        "from google.colab import files\n",
        "table_original = files.upload()\n",
        "table = pd.read_excel(io.BytesIO(table_original['junsi_description_sudong.xlsx']))\n",
        "\n",
        "table"
      ],
      "execution_count": 13,
      "outputs": [
        {
          "output_type": "display_data",
          "data": {
            "text/html": [
              "\n",
              "     <input type=\"file\" id=\"files-6af20b49-2f1e-4983-b50c-e55f2a098452\" name=\"files[]\" multiple disabled\n",
              "        style=\"border:none\" />\n",
              "     <output id=\"result-6af20b49-2f1e-4983-b50c-e55f2a098452\">\n",
              "      Upload widget is only available when the cell has been executed in the\n",
              "      current browser session. Please rerun this cell to enable.\n",
              "      </output>\n",
              "      <script src=\"/nbextensions/google.colab/files.js\"></script> "
            ],
            "text/plain": [
              "<IPython.core.display.HTML object>"
            ]
          },
          "metadata": {
            "tags": []
          }
        },
        {
          "output_type": "stream",
          "text": [
            "Saving junsi_description_sudong.xlsx to junsi_description_sudong (1).xlsx\n"
          ],
          "name": "stdout"
        },
        {
          "output_type": "execute_result",
          "data": {
            "text/html": [
              "<div>\n",
              "<style scoped>\n",
              "    .dataframe tbody tr th:only-of-type {\n",
              "        vertical-align: middle;\n",
              "    }\n",
              "\n",
              "    .dataframe tbody tr th {\n",
              "        vertical-align: top;\n",
              "    }\n",
              "\n",
              "    .dataframe thead th {\n",
              "        text-align: right;\n",
              "    }\n",
              "</style>\n",
              "<table border=\"1\" class=\"dataframe\">\n",
              "  <thead>\n",
              "    <tr style=\"text-align: right;\">\n",
              "      <th></th>\n",
              "      <th>Unnamed: 0</th>\n",
              "      <th>junsi_name</th>\n",
              "      <th>start</th>\n",
              "      <th>end</th>\n",
              "      <th>place</th>\n",
              "      <th>google1</th>\n",
              "      <th>Insta</th>\n",
              "      <th>Theme</th>\n",
              "    </tr>\n",
              "  </thead>\n",
              "  <tbody>\n",
              "    <tr>\n",
              "      <th>0</th>\n",
              "      <td>0</td>\n",
              "      <td>환영 幻影 : 실재와 환상의 사이</td>\n",
              "      <td>2021.05.11.</td>\n",
              "      <td>2021.07.30.</td>\n",
              "      <td>갤러리 구조</td>\n",
              "      <td>컨템포러리 아트 갤러리, 갤러리 구조가 ‘환영 幻影: 실재와 환상의 사이’ 전시를 ...</td>\n",
              "      <td>0.0</td>\n",
              "      <td>2.0</td>\n",
              "    </tr>\n",
              "    <tr>\n",
              "      <th>1</th>\n",
              "      <td>1</td>\n",
              "      <td>STREET NOISE</td>\n",
              "      <td>2021.02.26.</td>\n",
              "      <td>2021.06.13.</td>\n",
              "      <td>롯데월드몰</td>\n",
              "      <td>잠실 롯데월드몰에서 2월 26일 오픈하여, SNS상에서 새로운 힙플레이스로 떠오른 ...</td>\n",
              "      <td>1.0</td>\n",
              "      <td>2.0</td>\n",
              "    </tr>\n",
              "    <tr>\n",
              "      <th>2</th>\n",
              "      <td>2</td>\n",
              "      <td>2020 미래작가상</td>\n",
              "      <td>2021.05.27.</td>\n",
              "      <td>2021.06.27.</td>\n",
              "      <td>캐논갤러리</td>\n",
              "      <td>수상자 김유자 문그루 최수현 의 작품전.\\n\\n전국 대학생을 대상으로 사진 작업을 ...</td>\n",
              "      <td>0.0</td>\n",
              "      <td>3.0</td>\n",
              "    </tr>\n",
              "    <tr>\n",
              "      <th>3</th>\n",
              "      <td>3</td>\n",
              "      <td>색동옷을 입은 아이들</td>\n",
              "      <td>2021.06.01.</td>\n",
              "      <td>2021.08.14.</td>\n",
              "      <td>한국색동박물관</td>\n",
              "      <td>한국색동박물관, 대한민국역사박물관 협력 기획전 《색동옷을 입은 아이들》展일시 : 2...</td>\n",
              "      <td>0.0</td>\n",
              "      <td>0.0</td>\n",
              "    </tr>\n",
              "    <tr>\n",
              "      <th>4</th>\n",
              "      <td>4</td>\n",
              "      <td>나의 꽃은 가깝고 낯설다</td>\n",
              "      <td>2021.05.25.</td>\n",
              "      <td>2021.07.10.</td>\n",
              "      <td>코리아나미술관</td>\n",
              "      <td>코리아나미술관(관장 유상옥·유승희)은 ‘꽃’을 주제로 한 기획전 《나의 꽃은 가깝고...</td>\n",
              "      <td>0.0</td>\n",
              "      <td>1.0</td>\n",
              "    </tr>\n",
              "    <tr>\n",
              "      <th>...</th>\n",
              "      <td>...</td>\n",
              "      <td>...</td>\n",
              "      <td>...</td>\n",
              "      <td>...</td>\n",
              "      <td>...</td>\n",
              "      <td>...</td>\n",
              "      <td>...</td>\n",
              "      <td>...</td>\n",
              "    </tr>\n",
              "    <tr>\n",
              "      <th>370</th>\n",
              "      <td>370</td>\n",
              "      <td>김수영 : The First Village</td>\n",
              "      <td>2021.05.27.</td>\n",
              "      <td>2021.06.02.</td>\n",
              "      <td>tya갤러리</td>\n",
              "      <td>“당신의 ‘척’과 관련된 이야기를 들려주세요.”\\n해방촌 tya갤러리(서울시 용산구...</td>\n",
              "      <td>0.0</td>\n",
              "      <td>2.0</td>\n",
              "    </tr>\n",
              "    <tr>\n",
              "      <th>371</th>\n",
              "      <td>371</td>\n",
              "      <td>조수빈 : ⫷&amp;nbsp;⫸</td>\n",
              "      <td>2021.05.24.</td>\n",
              "      <td>2021.06.02.</td>\n",
              "      <td>공간일리</td>\n",
              "      <td>충실하게 쓸모없음을 수행하고 있는 기계들을 설명에 따라 하나하나 작동시켜 보세요. ...</td>\n",
              "      <td>0.0</td>\n",
              "      <td>2.0</td>\n",
              "    </tr>\n",
              "    <tr>\n",
              "      <th>372</th>\n",
              "      <td>372</td>\n",
              "      <td>이희욱 : 인간의 얼굴</td>\n",
              "      <td>2021.05.20.</td>\n",
              "      <td>2021.06.02.</td>\n",
              "      <td>에이라운지 갤러리</td>\n",
              "      <td>에이라운지는 2021년 5월 20일(목)부터 6월 2일(수)까지 이희욱 개인전 《인...</td>\n",
              "      <td>0.0</td>\n",
              "      <td>2.0</td>\n",
              "    </tr>\n",
              "    <tr>\n",
              "      <th>373</th>\n",
              "      <td>373</td>\n",
              "      <td>F8 소풍(逍風)</td>\n",
              "      <td>2021.05.27.</td>\n",
              "      <td>2021.06.02.</td>\n",
              "      <td>아트스페이스 퀄리아</td>\n",
              "      <td>흔히 소풍(逍風)이라 하면 휴식을 취하기 위해서 야외에 나갔다 오는 일을 떠올린다....</td>\n",
              "      <td>0.0</td>\n",
              "      <td>2.0</td>\n",
              "    </tr>\n",
              "    <tr>\n",
              "      <th>374</th>\n",
              "      <td>374</td>\n",
              "      <td>이재윤 : 빛과 마음의 소리</td>\n",
              "      <td>2021.03.03.</td>\n",
              "      <td>2021.06.02.</td>\n",
              "      <td>셀트리온스킨큐어 강남센터</td>\n",
              "      <td>NaN</td>\n",
              "      <td>NaN</td>\n",
              "      <td>NaN</td>\n",
              "    </tr>\n",
              "  </tbody>\n",
              "</table>\n",
              "<p>375 rows × 8 columns</p>\n",
              "</div>"
            ],
            "text/plain": [
              "     Unnamed: 0               junsi_name  ... Insta Theme\n",
              "0             0       환영 幻影 : 실재와 환상의 사이  ...   0.0   2.0\n",
              "1             1             STREET NOISE  ...   1.0   2.0\n",
              "2             2               2020 미래작가상  ...   0.0   3.0\n",
              "3             3              색동옷을 입은 아이들  ...   0.0   0.0\n",
              "4             4            나의 꽃은 가깝고 낯설다  ...   0.0   1.0\n",
              "..          ...                      ...  ...   ...   ...\n",
              "370         370  김수영 : The First Village  ...   0.0   2.0\n",
              "371         371           조수빈 : ⫷&nbsp;⫸  ...   0.0   2.0\n",
              "372         372             이희욱 : 인간의 얼굴  ...   0.0   2.0\n",
              "373         373                F8 소풍(逍風)  ...   0.0   2.0\n",
              "374         374          이재윤 : 빛과 마음의 소리  ...   NaN   NaN\n",
              "\n",
              "[375 rows x 8 columns]"
            ]
          },
          "metadata": {
            "tags": []
          },
          "execution_count": 13
        }
      ]
    },
    {
      "cell_type": "code",
      "metadata": {
        "id": "RLTIN4JKPhu6",
        "colab": {
          "base_uri": "https://localhost:8080/"
        },
        "outputId": "13f560cb-d359-445a-8145-fca8face0b16"
      },
      "source": [
        "# label 분류\n",
        "label_0_index, label_1_index, no_label = list(), list(), list()\n",
        "for idx in table.index:\n",
        "    if table.loc[idx, 'Insta'] == 0:\n",
        "        label_0_index.append(idx) #323\n",
        "    elif table.loc[idx, 'Insta'] == 1:\n",
        "        label_1_index.append(idx) #31\n",
        "    else:\n",
        "        no_label.append(idx) #21\n",
        "print(label_0_index)\n",
        "print(label_1_index)\n",
        "print(no_label)\n",
        "print(len(label_0_index), len(label_1_index), len(no_label))"
      ],
      "execution_count": 14,
      "outputs": [
        {
          "output_type": "stream",
          "text": [
            "[0, 2, 3, 4, 5, 6, 7, 8, 9, 10, 11, 12, 13, 14, 15, 16, 17, 18, 19, 20, 21, 22, 23, 24, 25, 27, 28, 29, 30, 31, 32, 33, 34, 35, 36, 37, 38, 39, 40, 41, 42, 43, 44, 45, 46, 47, 48, 49, 50, 51, 52, 53, 54, 56, 57, 58, 59, 60, 61, 62, 63, 64, 65, 66, 67, 68, 69, 70, 71, 73, 75, 76, 77, 78, 79, 80, 81, 82, 83, 84, 85, 86, 87, 88, 90, 91, 93, 99, 100, 101, 102, 103, 104, 105, 106, 107, 108, 109, 110, 111, 112, 113, 114, 115, 116, 117, 118, 119, 120, 121, 122, 123, 124, 126, 127, 128, 129, 130, 131, 132, 133, 135, 137, 139, 140, 141, 142, 143, 144, 145, 146, 147, 148, 149, 150, 152, 153, 154, 155, 156, 157, 158, 161, 162, 163, 164, 165, 166, 167, 168, 169, 170, 171, 172, 174, 175, 176, 177, 180, 181, 182, 183, 184, 185, 187, 188, 189, 190, 191, 192, 193, 194, 195, 196, 197, 198, 199, 200, 201, 202, 203, 204, 205, 206, 208, 209, 210, 211, 212, 213, 214, 216, 218, 220, 221, 222, 223, 224, 225, 227, 228, 229, 230, 231, 232, 233, 234, 235, 236, 237, 238, 239, 240, 241, 242, 243, 246, 248, 249, 251, 255, 256, 258, 259, 260, 261, 262, 263, 264, 265, 266, 267, 268, 269, 270, 271, 272, 273, 274, 275, 276, 277, 278, 280, 281, 282, 283, 284, 285, 286, 287, 288, 289, 290, 291, 292, 293, 294, 295, 296, 297, 298, 299, 300, 303, 304, 305, 306, 307, 308, 309, 311, 315, 316, 317, 318, 319, 321, 322, 324, 325, 326, 327, 328, 329, 331, 333, 334, 335, 336, 337, 338, 339, 340, 342, 343, 344, 346, 347, 348, 349, 350, 351, 352, 353, 354, 355, 357, 359, 360, 361, 362, 363, 364, 365, 366, 367, 368, 369, 370, 371, 372, 373]\n",
            "[1, 26, 89, 92, 94, 95, 96, 125, 136, 138, 151, 173, 178, 186, 217, 219, 226, 244, 245, 247, 250, 252, 253, 257, 301, 310, 312, 314, 320, 330, 341]\n",
            "[55, 72, 74, 97, 98, 134, 159, 160, 179, 207, 215, 254, 279, 302, 313, 323, 332, 345, 356, 358, 374]\n",
            "323 31 21\n"
          ],
          "name": "stdout"
        }
      ]
    },
    {
      "cell_type": "code",
      "metadata": {
        "id": "_wKVHfnkHwOg",
        "colab": {
          "base_uri": "https://localhost:8080/"
        },
        "outputId": "614de54b-1f1b-44fd-8e51-763700dc7afb"
      },
      "source": [
        "# 단어 추출\n",
        "kkma = Kkma()\n",
        "words = list()\n",
        "pattern = re.compile(r'\\W+')\n",
        "\n",
        "for idx, val in enumerate(table['google1']):\n",
        "    print(f\"\\r단어 뽑아내는 중 : {idx} / {len(table['google1'])}\", end='')\n",
        "    \n",
        "    if type(val) != str:\n",
        "        words.append('')\n",
        "        continue\n",
        "\n",
        "    val = re.sub(pattern, ' ', val)\n",
        "    ex_pos = kkma.pos(val)\n",
        "    \n",
        "    # http://kkma.snu.ac.kr/documents/?doc=postag 태그 참고. 명사만 사용\n",
        "    terms = [term for term, wclass in ex_pos if wclass in ('NNG', 'NNP')]\n",
        "    \n",
        "    com_sep_terms = ','.join(terms)\n",
        "    words.append(com_sep_terms)\n",
        "\n",
        "print('\\r------ 단어 뽑아내기 완료 ------')\n",
        "table['words'] = words"
      ],
      "execution_count": 15,
      "outputs": [
        {
          "output_type": "stream",
          "text": [
            "------ 단어 뽑아내기 완료 ------\n"
          ],
          "name": "stdout"
        }
      ]
    },
    {
      "cell_type": "code",
      "metadata": {
        "id": "cS1Dz84B9len"
      },
      "source": [
        "# x, y 나누기\n",
        "words = table['words'].fillna('')\n",
        "tfidf_vectorizer = TfidfVectorizer()\n",
        "x = tfidf_vectorizer.fit_transform(words).toarray()\n",
        "\n",
        "y = table['Insta']"
      ],
      "execution_count": 16,
      "outputs": []
    },
    {
      "cell_type": "code",
      "metadata": {
        "id": "UeEwfQi5KW2P"
      },
      "source": [
        "# train, test, validation 나누기\n",
        "# label_0이 label_1에 비해 너무 많음. label_0 중 랜덤 100개만 선택해서 사용, label_1은 전체를 사용\n",
        "\n",
        "train_idx = label_0_index[:60] + label_1_index[:20] #60%\n",
        "test_idx = label_0_index[60:80] + label_1_index[20:26] #20%\n",
        "valid_idx = label_0_index[80:100] + label_1_index[26:] #20%\n",
        "\n",
        "x_train, y_train = x[train_idx], y[train_idx]\n",
        "x_test, y_test = x[test_idx], y[test_idx]\n",
        "x_valid, y_valid = x[valid_idx], y[valid_idx]"
      ],
      "execution_count": 17,
      "outputs": []
    },
    {
      "cell_type": "code",
      "metadata": {
        "id": "MhPP5wxrfWlC"
      },
      "source": [
        "# 모델 생성\n",
        "model = tf.keras.models.Sequential([\n",
        "    tf.keras.layers.Dense(64, activation='relu'),\n",
        "    tf.keras.layers.Dense(64, activation='relu'),\n",
        "    tf.keras.layers.Dense(1, activation='sigmoid')\n",
        "])\n",
        "model.compile(optimizer='adam', loss='mse')"
      ],
      "execution_count": 18,
      "outputs": []
    },
    {
      "cell_type": "code",
      "metadata": {
        "id": "z6zCrava9yZQ",
        "colab": {
          "base_uri": "https://localhost:8080/"
        },
        "outputId": "be45e4d8-5bec-40e6-ded2-2439fd0b5b4e"
      },
      "source": [
        "# 학습 실행\n",
        "model.fit(x_train, y_train, epochs=50)"
      ],
      "execution_count": 19,
      "outputs": [
        {
          "output_type": "stream",
          "text": [
            "Epoch 1/50\n",
            "3/3 [==============================] - 1s 9ms/step - loss: 0.2512\n",
            "Epoch 2/50\n",
            "3/3 [==============================] - 0s 7ms/step - loss: 0.2443\n",
            "Epoch 3/50\n",
            "3/3 [==============================] - 0s 8ms/step - loss: 0.2383\n",
            "Epoch 4/50\n",
            "3/3 [==============================] - 0s 8ms/step - loss: 0.2307\n",
            "Epoch 5/50\n",
            "3/3 [==============================] - 0s 7ms/step - loss: 0.2216\n",
            "Epoch 6/50\n",
            "3/3 [==============================] - 0s 8ms/step - loss: 0.2110\n",
            "Epoch 7/50\n",
            "3/3 [==============================] - 0s 7ms/step - loss: 0.1974\n",
            "Epoch 8/50\n",
            "3/3 [==============================] - 0s 7ms/step - loss: 0.1825\n",
            "Epoch 9/50\n",
            "3/3 [==============================] - 0s 8ms/step - loss: 0.1649\n",
            "Epoch 10/50\n",
            "3/3 [==============================] - 0s 8ms/step - loss: 0.1464\n",
            "Epoch 11/50\n",
            "3/3 [==============================] - 0s 8ms/step - loss: 0.1267\n",
            "Epoch 12/50\n",
            "3/3 [==============================] - 0s 7ms/step - loss: 0.1066\n",
            "Epoch 13/50\n",
            "3/3 [==============================] - 0s 7ms/step - loss: 0.0873\n",
            "Epoch 14/50\n",
            "3/3 [==============================] - 0s 7ms/step - loss: 0.0689\n",
            "Epoch 15/50\n",
            "3/3 [==============================] - 0s 12ms/step - loss: 0.0531\n",
            "Epoch 16/50\n",
            "3/3 [==============================] - 0s 7ms/step - loss: 0.0391\n",
            "Epoch 17/50\n",
            "3/3 [==============================] - 0s 8ms/step - loss: 0.0281\n",
            "Epoch 18/50\n",
            "3/3 [==============================] - 0s 6ms/step - loss: 0.0196\n",
            "Epoch 19/50\n",
            "3/3 [==============================] - 1s 8ms/step - loss: 0.0138\n",
            "Epoch 20/50\n",
            "3/3 [==============================] - 0s 7ms/step - loss: 0.0094\n",
            "Epoch 21/50\n",
            "3/3 [==============================] - 0s 7ms/step - loss: 0.0067\n",
            "Epoch 22/50\n",
            "3/3 [==============================] - 0s 7ms/step - loss: 0.0048\n",
            "Epoch 23/50\n",
            "3/3 [==============================] - 0s 9ms/step - loss: 0.0036\n",
            "Epoch 24/50\n",
            "3/3 [==============================] - 0s 7ms/step - loss: 0.0028\n",
            "Epoch 25/50\n",
            "3/3 [==============================] - 0s 6ms/step - loss: 0.0022\n",
            "Epoch 26/50\n",
            "3/3 [==============================] - 0s 6ms/step - loss: 0.0018\n",
            "Epoch 27/50\n",
            "3/3 [==============================] - 0s 8ms/step - loss: 0.0015\n",
            "Epoch 28/50\n",
            "3/3 [==============================] - 0s 6ms/step - loss: 0.0013\n",
            "Epoch 29/50\n",
            "3/3 [==============================] - 0s 7ms/step - loss: 0.0012\n",
            "Epoch 30/50\n",
            "3/3 [==============================] - 0s 8ms/step - loss: 0.0010\n",
            "Epoch 31/50\n",
            "3/3 [==============================] - 0s 6ms/step - loss: 9.3497e-04\n",
            "Epoch 32/50\n",
            "3/3 [==============================] - 0s 7ms/step - loss: 8.5141e-04\n",
            "Epoch 33/50\n",
            "3/3 [==============================] - 0s 7ms/step - loss: 7.8319e-04\n",
            "Epoch 34/50\n",
            "3/3 [==============================] - 0s 7ms/step - loss: 7.2832e-04\n",
            "Epoch 35/50\n",
            "3/3 [==============================] - 0s 12ms/step - loss: 6.7905e-04\n",
            "Epoch 36/50\n",
            "3/3 [==============================] - 0s 8ms/step - loss: 6.3533e-04\n",
            "Epoch 37/50\n",
            "3/3 [==============================] - 0s 7ms/step - loss: 5.9901e-04\n",
            "Epoch 38/50\n",
            "3/3 [==============================] - 0s 8ms/step - loss: 5.6595e-04\n",
            "Epoch 39/50\n",
            "3/3 [==============================] - 0s 9ms/step - loss: 5.3573e-04\n",
            "Epoch 40/50\n",
            "3/3 [==============================] - 0s 6ms/step - loss: 5.0987e-04\n",
            "Epoch 41/50\n",
            "3/3 [==============================] - 0s 7ms/step - loss: 4.8419e-04\n",
            "Epoch 42/50\n",
            "3/3 [==============================] - 0s 13ms/step - loss: 4.6187e-04\n",
            "Epoch 43/50\n",
            "3/3 [==============================] - 0s 7ms/step - loss: 4.4131e-04\n",
            "Epoch 44/50\n",
            "3/3 [==============================] - 0s 8ms/step - loss: 4.2224e-04\n",
            "Epoch 45/50\n",
            "3/3 [==============================] - 0s 7ms/step - loss: 4.0357e-04\n",
            "Epoch 46/50\n",
            "3/3 [==============================] - 0s 7ms/step - loss: 3.8806e-04\n",
            "Epoch 47/50\n",
            "3/3 [==============================] - 0s 7ms/step - loss: 3.7220e-04\n",
            "Epoch 48/50\n",
            "3/3 [==============================] - 0s 7ms/step - loss: 3.5668e-04\n",
            "Epoch 49/50\n",
            "3/3 [==============================] - 0s 7ms/step - loss: 3.4386e-04\n",
            "Epoch 50/50\n",
            "3/3 [==============================] - 0s 6ms/step - loss: 3.3019e-04\n"
          ],
          "name": "stdout"
        },
        {
          "output_type": "execute_result",
          "data": {
            "text/plain": [
              "<tensorflow.python.keras.callbacks.History at 0x7fee5120e510>"
            ]
          },
          "metadata": {
            "tags": []
          },
          "execution_count": 19
        }
      ]
    },
    {
      "cell_type": "code",
      "metadata": {
        "id": "0i0ZY0BynNu0",
        "colab": {
          "base_uri": "https://localhost:8080/"
        },
        "outputId": "adbdaf70-7d2f-4b63-c70a-ffa03b62037e"
      },
      "source": [
        "# 결과 확인\n",
        "y_pred = model.predict(x_valid)\n",
        "\n",
        "for t, p in zip(y_valid, y_pred):\n",
        "    print(t, '/' , p[0])"
      ],
      "execution_count": 20,
      "outputs": [
        {
          "output_type": "stream",
          "text": [
            "0.0 / 0.13748604\n",
            "0.0 / 0.03669259\n",
            "0.0 / 0.16697076\n",
            "0.0 / 0.11458224\n",
            "0.0 / 0.12794828\n",
            "0.0 / 0.050687343\n",
            "0.0 / 0.19626784\n",
            "0.0 / 0.5069331\n",
            "0.0 / 0.26756665\n",
            "0.0 / 0.09958854\n",
            "0.0 / 0.48168772\n",
            "0.0 / 0.38116077\n",
            "0.0 / 0.3386392\n",
            "0.0 / 0.029671043\n",
            "0.0 / 0.03000158\n",
            "0.0 / 0.20233962\n",
            "0.0 / 0.10669589\n",
            "0.0 / 0.31774136\n",
            "0.0 / 0.09867284\n",
            "0.0 / 0.26238382\n",
            "1.0 / 0.59368706\n",
            "1.0 / 0.6319469\n",
            "1.0 / 0.28834623\n",
            "1.0 / 0.4048221\n",
            "1.0 / 0.6054672\n"
          ],
          "name": "stdout"
        }
      ]
    }
  ]
}